{
 "cells": [
  {
   "cell_type": "markdown",
   "metadata": {},
   "source": [
    "### 정렬 sort\n",
    "\n",
    "<img src =https://upload.wikimedia.org/wikipedia/commons/thumb/8/8e/Merge_sort_animation.gif/220px-Merge_sort_animation.gif width = 400>\n",
    "\n",
    "- 여러 데이터를 작은 값부터 큰 순으로 또는 큰 값부터 작은 순으로 순서에 맞게 정리하는 것\n",
    "    - 오름차순(Ascending sort)\n",
    "    - 내림차순(Descending sort)\n",
    "\n",
    "<!-- 표 만들때 :--(왼쪽 정렬) --:(오른쪽 정렬) :--:(중앙 정렬) -->\n",
    "|종류|평균|최선|최악|\n",
    "|:--|:--:|--:|:--:|\n",
    "|선택정렬|$O(n^2)$|$O(n^2)$|$O(n^2)$|\n",
    "|삽입정렬|$O(n^2)$|$O(n^2)$|$O(n^2)$|\n",
    "|버블|$O(n^2)$|$O(n^2)$|$O(n^2)$|\n",
    "|합병|$O(n log n)$|$O(n log n)$|$O(n log n)$|\n",
    "|퀵|$O(n log n)$|$O(n log n)$|$O(n^2)$|\n",
    "|힙|$O(n log n)$|$O(n log n)$|$O(n log n)$|\n",
    "|쉘|$O(n^{1.25})$|$O(n^{1.25})$|$O(n^{1.25})$|\n",
    "|기수|$O(dn)$|$O(dn)$|$O(dn)$|"
   ]
  },
  {
   "cell_type": "markdown",
   "metadata": {},
   "source": [
    "#### 선택정렬\n",
    "\n",
    "- 여러 데이터 중 가장 작은 값을 뽑는 과정을 반복하여 정렬하는 방식"
   ]
  },
  {
   "cell_type": "code",
   "execution_count": 4,
   "metadata": {},
   "outputs": [],
   "source": [
    "def finMinIdx(ary):\n",
    "    minIdx = 0 # 처음 값을 최소라고 가정\n",
    "    for i in range(1, len(ary)):\n",
    "        if ary[minIdx] > ary[i]:\n",
    "            minIdx = i\n",
    "    return minIdx\n"
   ]
  },
  {
   "cell_type": "code",
   "execution_count": 6,
   "metadata": {},
   "outputs": [
    {
     "name": "stdout",
     "output_type": "stream",
     "text": [
      "최솟값 인덱스 : 2\n",
      "최솟값 : 22\n"
     ]
    }
   ],
   "source": [
    "testAry = [55, 88, 22, 33, 77]\n",
    "minPos = finMinIdx(testAry)\n",
    "\n",
    "print(f'최솟값 인덱스 : {minPos}')\n",
    "print(f'최솟값 : {testAry[minPos]}')"
   ]
  },
  {
   "cell_type": "code",
   "execution_count": 8,
   "metadata": {},
   "outputs": [
    {
     "name": "stdout",
     "output_type": "stream",
     "text": [
      "정렬 전 -> [188, 162, 168, 120, 50, 150, 177, 105]\n",
      "정렬 후 -> [50, 105, 120, 150, 162, 168, 177, 188]\n"
     ]
    }
   ],
   "source": [
    "## 변수 선언\n",
    "#[('아빠',188), ('할머니', 162), ... , ('동생', 105)]\n",
    "before = [188, 162, 168, 120, 50, 150, 177, 105]\n",
    "after = []\n",
    "\n",
    "## 메인 코드\n",
    "print(f'정렬 전 -> {before}')\n",
    "\n",
    "for _ in range(len(before)): # 8번\n",
    "    minPos = finMinIdx(before)\n",
    "    after.append(before[minPos])\n",
    "    del(before[minPos])\n",
    "\n",
    "print(f'정렬 후 -> {after}')"
   ]
  },
  {
   "cell_type": "markdown",
   "metadata": {},
   "source": [
    "#### 데이터 교환에서 가장 중요한 swap\n",
    "- 변수가 두개 있을 때 하나의 값을 다른 곳으로 할당하려면 임시 변수가 필요\n",
    "\n",
    "    ```python\n",
    "    def swap(x,y):\n",
    "        temp = x\n",
    "        x = y\n",
    "        y = temp\n",
    "    ```"
   ]
  },
  {
   "cell_type": "markdown",
   "metadata": {},
   "source": [
    "#### 변수 하나로 선택정렬"
   ]
  },
  {
   "cell_type": "code",
   "execution_count": 10,
   "metadata": {},
   "outputs": [
    {
     "name": "stdout",
     "output_type": "stream",
     "text": [
      "정렬 전 -> [188, 162, 168, 120, 50, 150, 177, 105]\n",
      "정렬 후 -> [50, 105, 120, 150, 162, 168, 177, 188]\n"
     ]
    }
   ],
   "source": [
    "def sortSelection(ary):\n",
    "    n = len(ary)\n",
    "    for i in range(0, n-1):\n",
    "        minIdx = i\n",
    "        for j in range(i+1, n):\n",
    "            if ary[minIdx] > ary[j]:\n",
    "                minIdx = j\n",
    "        tmp = ary[i]\n",
    "        ary[i] = ary[minIdx]\n",
    "        ary[minIdx] = tmp\n",
    "    return ary\n",
    "dataAry = [188, 162, 168, 120, 50, 150, 177, 105]\n",
    "\n",
    "print(f'정렬 전 -> {dataAry}')\n",
    "dataAry = sortSelection(dataAry)\n",
    "print(f'정렬 후 -> {dataAry}')"
   ]
  },
  {
   "cell_type": "markdown",
   "metadata": {},
   "source": []
  }
 ],
 "metadata": {
  "kernelspec": {
   "display_name": "Python 3",
   "language": "python",
   "name": "python3"
  },
  "language_info": {
   "name": "python",
   "version": "3.11.9"
  }
 },
 "nbformat": 4,
 "nbformat_minor": 2
}
