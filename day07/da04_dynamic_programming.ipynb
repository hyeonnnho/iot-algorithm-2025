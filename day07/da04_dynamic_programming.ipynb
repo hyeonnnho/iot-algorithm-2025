{
 "cells": [
  {
   "cell_type": "markdown",
   "metadata": {},
   "source": [
    "### DP(Dynamic Programming) : 동적 계획법\n",
    "- 연산의 수는 줄이고 최적의 결과를 도출할 수 있는 문제 해결방법"
   ]
  },
  {
   "cell_type": "markdown",
   "metadata": {},
   "source": [
    "#### Memoization\n",
    "\n",
    "|보석 종류|무게(kg)|가격(억)|\n",
    "|:--:|--:|--:|\n",
    "|금괴|6|13|\n",
    "|수정|4|8|\n",
    "|루비|3|6|\n",
    "|진주|5|12|"
   ]
  },
  {
   "cell_type": "code",
   "execution_count": 1,
   "metadata": {},
   "outputs": [
    {
     "data": {
      "text/plain": [
       "[[0, 0, 0, 0, 0, 0, 0, 0],\n",
       " [0, 0, 0, 0, 0, 0, 0, 0],\n",
       " [0, 0, 0, 0, 0, 0, 0, 0],\n",
       " [0, 0, 0, 0, 0, 0, 0, 0],\n",
       " [0, 0, 0, 0, 0, 0, 0, 0]]"
      ]
     },
     "execution_count": 1,
     "metadata": {},
     "output_type": "execute_result"
    }
   ],
   "source": [
    "# 배열 초기화 (행은 보석갯수, 열은 0kg ~ 7kg)\n",
    "배열 = [[0 for _ in range(8)] for _ in range(5)]\n",
    "\n",
    "배열\n"
   ]
  },
  {
   "cell_type": "markdown",
   "metadata": {},
   "source": [
    "- 동적계획법 구현"
   ]
  },
  {
   "cell_type": "code",
   "execution_count": 5,
   "metadata": {},
   "outputs": [
    {
     "name": "stdout",
     "output_type": "stream",
     "text": [
      "## 메모이제이션 배열 ##\n",
      "보석 1번 0 0 6 6 6 6 6 \n",
      "보석 2번 0 0 0 8 8 8 14 \n",
      "보석 3번 0 0 0 0 12 12 14 \n",
      "보석 4번 0 0 0 0 0 13 14 \n",
      "\n",
      "베낭에 담을 가장 최대 보석 가격 --> 14억원\n"
     ]
    }
   ],
   "source": [
    "# 변수 선언\n",
    "maxWeight = 7\n",
    "rowCount = 4\n",
    "treasure = ['', '금괴', '수정', '루비', '진주']\n",
    "# weight = [0, 6, 4, 3, 5] # 보석무게[0, 금괴, 수정, 루비, 진주]\n",
    "# money = [0, 13, 8, 6, 12] # 보석가격[0, 금괴, 수정, 루비, 진주]\n",
    "weight = [0, 3, 4, 5, 6] # 보석무게[0, 금괴, 수정, 루비, 진주]\n",
    "money = [0, 6, 8, 12, 13] # 보석가격[0, 금괴, 수정, 루비, 진주]\n",
    "\n",
    "# 함수 선언\n",
    "def kanpsack():\n",
    "    print('## 메모이제이션 배열 ##')\n",
    "    array = [[0 for _ in range(maxWeight+1)] for _ in range(rowCount+1)] # 5x8 행렬\n",
    "\n",
    "    for row in range(1, rowCount + 1):  # 1~4(보석개수)\n",
    "        print(f'보석 {row}번', end=' ')\n",
    "        for col in range(1, maxWeight+1):   # 1~7(kg)\n",
    "            if weight[row] > col: # 보석의 무게가 무거워서 1kg 가방에 못 들어가면\n",
    "                array[row][col] = array[row-1][col-1]\n",
    "            else: # 보석의 무게가 가방무게보다 작거나 같으면\n",
    "                value1 = money[row] + array[row-1][col - weight[row]] # 현재보석 가치와 배낭무게에서 현재보석의 무게를 뺀 위치의 가치를 합산 결과\n",
    "                value2 = array[row-1][col]\n",
    "                array[row][col] = max(value1, value2)\n",
    "            print(f'{array[row][col]}', end=' ')\n",
    "        print()\n",
    "    \n",
    "    return array[rowCount][maxWeight]   # 최종결과값\n",
    "\n",
    "# 메인로직\n",
    "maxValue = kanpsack()\n",
    "print()\n",
    "print(f'베낭에 담을 가장 최대 보석 가격 --> {maxValue}억원')"
   ]
  },
  {
   "cell_type": "markdown",
   "metadata": {},
   "source": [
    "#### 피보나치 수열로 비교"
   ]
  },
  {
   "cell_type": "code",
   "execution_count": 19,
   "metadata": {},
   "outputs": [],
   "source": [
    "def rc_fibo(n):\n",
    "    global count_rc\n",
    "    count_rc += 1\n",
    "    if n == 0:\n",
    "        return 0\n",
    "    if n == 1:\n",
    "        return 1 # 재귀 탈출 조건\n",
    "    else:\n",
    "        return rc_fibo(n-1) + rc_fibo(n-2)"
   ]
  },
  {
   "cell_type": "code",
   "execution_count": null,
   "metadata": {},
   "outputs": [],
   "source": [
    "def dp_fibo(n):\n",
    "    memo = [0, 1]\n",
    "    if n == 0:\n",
    "        return memo[n]\n",
    "    elif n == 1:\n",
    "        return memo[n]\n",
    "    else:\n",
    "        for i in range(2, n+1):\n",
    "            memo.append(memo[i-1] + memo[i-2]) # 메모이제이션\n",
    "            count_dp += 1\n",
    "\n",
    "        return memo[n]\n"
   ]
  },
  {
   "cell_type": "code",
   "execution_count": 26,
   "metadata": {},
   "outputs": [],
   "source": [
    "# 전역변수\n",
    "count_rc, count_dp = 0, 0\n",
    "n = 30"
   ]
  },
  {
   "cell_type": "code",
   "execution_count": 27,
   "metadata": {},
   "outputs": [],
   "source": [
    "n = 30"
   ]
  },
  {
   "cell_type": "code",
   "execution_count": null,
   "metadata": {},
   "outputs": [
    {
     "name": "stdout",
     "output_type": "stream",
     "text": [
      "재귀 피보나치 30 = 832040\n",
      "처리 횟수 : 2692537\n"
     ]
    }
   ],
   "source": [
    "count_rc = 0\n",
    "n = 32\n",
    "print(f'재귀 피보나치 {n} = {rc_fibo(n)}')\n",
    "print(f'처리 횟수 : {count_rc}')"
   ]
  },
  {
   "cell_type": "code",
   "execution_count": null,
   "metadata": {},
   "outputs": [
    {
     "name": "stdout",
     "output_type": "stream",
     "text": [
      "동적 피보나치 10 = 55\n",
      "처리 횟수 : 0\n"
     ]
    }
   ],
   "source": [
    "count_dp = 0\n",
    "n = 40\n",
    "print(f'동적 피보나치 {n} = {dp_fibo(n)}')\n",
    "print(f'처리 횟수 : {count_dp}')"
   ]
  }
 ],
 "metadata": {
  "kernelspec": {
   "display_name": "Python 3",
   "language": "python",
   "name": "python3"
  },
  "language_info": {
   "codemirror_mode": {
    "name": "ipython",
    "version": 3
   },
   "file_extension": ".py",
   "mimetype": "text/x-python",
   "name": "python",
   "nbconvert_exporter": "python",
   "pygments_lexer": "ipython3",
   "version": "3.11.9"
  }
 },
 "nbformat": 4,
 "nbformat_minor": 2
}
