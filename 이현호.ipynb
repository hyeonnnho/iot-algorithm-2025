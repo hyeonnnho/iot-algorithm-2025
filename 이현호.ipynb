{
 "cells": [
  {
   "cell_type": "markdown",
   "metadata": {},
   "source": [
    "### 250224 자료구조&알고리즘 코딩테스트  "
   ]
  },
  {
   "cell_type": "markdown",
   "metadata": {},
   "source": [
    "1. P511 배낭함수 문제의 1, 2에 적합한 코드를 골라서 작성하시오."
   ]
  },
  {
   "cell_type": "code",
   "execution_count": 22,
   "metadata": {},
   "outputs": [],
   "source": [
    "def knapsack():\n",
    "    array = [[0 for _ in range(maxWeight+1)] for _ in range(rowCount + 1)] # 0으로 이루어진 행렬 생성\n",
    "    for row in range(1, rowCount + 1): \n",
    "        for col in range(1, maxWeight + 1):\n",
    "            if weight[row] > col: # 보석 무게가 가방의 최대 무게보다 클 때\n",
    "                array[row][col] = array[row-1][col]\n",
    "            else: # 보석 무게가 가방의 최대 무게보다 작거나 같을 때\n",
    "                value1 = money[row] + array[row-1][col - weight[row]] # 보석의 가격 + (가방-보석)의 용량에 담을 수 있는 최대 가격\n",
    "                value2 = array[row-1][col] # 그전 보석에서 동일한 가방일 때 담을 수 있는 최대 가격\n",
    "                array[row][col] = max(value1, value2)\n",
    "    return array[rowCount][maxWeight]"
   ]
  },
  {
   "cell_type": "markdown",
   "metadata": {},
   "source": [
    "2. P269 유명 맛집 대기줄 구현하기 문제를 while True:문을 사용하여 동적으로 입력을 받는 프로그램으로 변경작성하시오."
   ]
  },
  {
   "cell_type": "code",
   "execution_count": 23,
   "metadata": {},
   "outputs": [],
   "source": [
    "# 초기화\n",
    "SIZE = int(input('큐크기 입력 > '))\n",
    "queue = [None for _ in range(SIZE)]\n",
    "front = rear = 0"
   ]
  },
  {
   "cell_type": "code",
   "execution_count": 24,
   "metadata": {},
   "outputs": [],
   "source": [
    "# 함수 선언\n",
    "def isQueueFull():\n",
    "    global SIZE, queue, front, rear\n",
    "    if ((rear+1) % SIZE == front) :\n",
    "        return True\n",
    "    else:\n",
    "        return False    \n",
    "    \n",
    "def isQueueEmpty():\n",
    "    global SIZE, queue, front, rear\n",
    "    if (front == rear):\n",
    "        return True\n",
    "    else:\n",
    "        return False\n",
    "    \n",
    "def enQueue(data):\n",
    "    global SIZE, queue, front, rear\n",
    "    if isQueueFull():\n",
    "        print('Queue is full')\n",
    "        return\n",
    "    else:\n",
    "        rear = (rear+1) % SIZE\n",
    "        queue[rear] = data\n",
    "\n",
    "def deQueue():\n",
    "    global SIZE, queue, front, rear\n",
    "    if isQueueEmpty():\n",
    "        print('Queue is empty')\n",
    "        return None\n",
    "    else:\n",
    "        front = (front + 1) % SIZE\n",
    "        data = queue[front]\n",
    "        queue[front] = None\n",
    "        return data\n",
    "        \n",
    "def peek():\n",
    "    global SIZE, queue, front, rear\n",
    "    if isQueueEmpty():\n",
    "        print('Queue is empty')\n",
    "        return None\n",
    "    else:\n",
    "        return queue[(front+1)% SIZE]"
   ]
  },
  {
   "cell_type": "code",
   "execution_count": 25,
   "metadata": {},
   "outputs": [
    {
     "name": "stdout",
     "output_type": "stream",
     "text": [
      "프로그램 종료\n"
     ]
    }
   ],
   "source": [
    "## 메인 코드 부분\n",
    "if __name__ == '__main__':\n",
    "    while True:\n",
    "        select = input('삽입(I)/ 추출(E)/ 확인(V)/ 종료(Q) --->>').upper()\n",
    "\n",
    "        if select == 'I':\n",
    "            data = input('삽입할 데이터 입력 -->')\n",
    "            enQueue(data)\n",
    "            print(f'큐 상태 : {queue}')\n",
    "        elif select == 'E':\n",
    "            data = deQueue()\n",
    "            print(f'추출 데이터 : {data}')\n",
    "            print(f'큐 상태 : {queue}')\n",
    "        elif select == 'V':\n",
    "            data = peek()\n",
    "            print(f'큐 상태 : {queue}')\n",
    "        elif select == 'Q':\n",
    "            break\n",
    "        else:\n",
    "            print('제대로 입력하세요')\n",
    "\n",
    "    print('프로그램 종료')\n"
   ]
  },
  {
   "cell_type": "markdown",
   "metadata": {},
   "source": [
    "3. P309 편의점 판매된 물건 목록 출력하기 문제 역시 while True: 문으로 동적으로 입력받는 프로그램으로 변경하시오.\n",
    "데이터의 종류는 [ 콘말차, 삿포로 맥주, 아카페라 벤티 헤이즐넛, 레어치즈푸딩, 척오리지널 메가 사워, 요아정 요거트컵, 페퍼로니피자주먹밥, 널담 슈톨렌, 딸기마시멜로케이크, 버니공쥬 딸기뚱카롱, 고추잡채호빵, 체다 슈크림붕어스낵 ]"
   ]
  },
  {
   "cell_type": "code",
   "execution_count": 5,
   "metadata": {},
   "outputs": [
    {
     "name": "stdout",
     "output_type": "stream",
     "text": [
      "1. 콘말차 2. 삿포로 맥주 3. 아카페라 벤티 헤이즐넛 4. 레어치즈푸딩 5. 척오리지널 메가 사워 6. 요아정 요거트컵 7. 페퍼로니피자주먹밥 8. 널담 슈톨렌 9. 딸기마시멜로케이크 10. 버니공쥬 딸기뚱카롱 11. 고추잡채호빵 12. 체다 슈크림붕어스낵 \n",
      "콘말차 판매 완료!!\n",
      "# 오늘 판매된 전체 물건(중복O) --> ['콘말차']\n",
      "# 오늘 판매된 물품 종류(중복X) -->\n",
      "콘말차 \n",
      "프로그램 종료\n",
      "오늘 판매된 물건(중복O) --> ['콘말차']\n",
      "오늘 판매된 종류(중복X) -->\n",
      "콘말차 "
     ]
    }
   ],
   "source": [
    "import random\n",
    "\n",
    "# 초기화\n",
    "memory = []\n",
    "root = None\n",
    "nameAry = ['콘말차', '삿포로 맥주', '아카페라 벤티 헤이즐넛', '레어치즈푸딩',\n",
    "           '척오리지널 메가 사워', '요아정 요거트컵', '페퍼로니피자주먹밥', '널담 슈톨렌',\n",
    "           '딸기마시멜로케이크', '버니공쥬 딸기뚱카롱', '고추잡채호빵', '체다 슈크림붕어스낵']\n",
    "sellAry = []\n",
    "\n",
    "# TreeNode 클래스 선언\n",
    "class TreeNode:\n",
    "    def __init__(self):\n",
    "        self.left = None  # 왼쪽 자식\n",
    "        self.data = None  # 노드 데이터\n",
    "        self.right = None # 오른쪽 자식\n",
    "\n",
    "# 전위 순회 함수\n",
    "def preorder(node):\n",
    "    if node is None:\n",
    "        return\n",
    "    print(node.data, end=' ')\n",
    "    preorder(node.left)\n",
    "    preorder(node.right)\n",
    "\n",
    "def makeTree():\n",
    "    global root, nameAry, sellAry\n",
    "    node = TreeNode()\n",
    "    node.data = nameAry[0]\n",
    "    root = node\n",
    "    memory.append(node)\n",
    "\n",
    "    for name in sellAry[1:]:\n",
    "        node = TreeNode()\n",
    "        node.data = name\n",
    "        current = root\n",
    "        while True:\n",
    "            if name == current.data:\n",
    "                break\n",
    "            if name < current.data:\n",
    "                if current.left == None:\n",
    "                    current.left = node\n",
    "                    memory.append(node)\n",
    "                    break\n",
    "                current = current.left\n",
    "            else:\n",
    "                if current.right == None:\n",
    "                    current.right = node\n",
    "                    memory.append(node)\n",
    "                    break\n",
    "                current = current.right\n",
    "\n",
    "\n",
    "# 메인 코드 부분\n",
    "if __name__ == '__main__':\n",
    "    while True:\n",
    "        select =  input('1. 메뉴 판매 | 2. 오늘 팔린 메뉴 | 3. 오늘 팔린 종류 | 4. 종료')\n",
    "        if select == '1' :\n",
    "            while True:\n",
    "                for i in range(len(nameAry)):\n",
    "                    print(f'{i+1}. {nameAry[i]}', end=' ')\n",
    "                print()\n",
    "                menuNum = int(input('팔린 메뉴를 선택하세요 >>'))\n",
    "                if menuNum > 0 and menuNum < 13 :\n",
    "                    sellAry.append(nameAry[menuNum-1])\n",
    "                    print(f'{nameAry[menuNum-1]} 판매 완료!!')\n",
    "                    break\n",
    "                else:\n",
    "                    print('제대로 입력하세요')\n",
    "        elif select == '2':\n",
    "            sellAry.sort()\n",
    "            print('# 오늘 판매된 전체 물건(중복O) -->', sellAry)\n",
    "        elif select == '3':\n",
    "            makeTree()\n",
    "            print('# 오늘 판매된 물품 종류(중복X) -->')\n",
    "            preorder(root)\n",
    "            print()  # 줄바꿈\n",
    "        elif select == '4':\n",
    "            break\n",
    "        else:\n",
    "            print('제대로 입력하세요')\n",
    "\n",
    "    print('프로그램 종료')\n",
    "\n",
    "print('오늘 판매된 물건(중복O) -->', sellAry)\n",
    "print('오늘 판매된 종류(중복X) -->')\n",
    "preorder(root)\n"
   ]
  },
  {
   "cell_type": "markdown",
   "metadata": {},
   "source": [
    "4. P473 Self Study 13-2 의 문제. 이진 검색 알고리즘을 풀면서 검색 횟수도 같이 출력하도록 구현하세요."
   ]
  },
  {
   "cell_type": "code",
   "execution_count": null,
   "metadata": {},
   "outputs": [
    {
     "name": "stdout",
     "output_type": "stream",
     "text": [
      "배열 일부 --> [0, 1, 3, 3, 3] ~~~~ [99997, 99998, 99998, 100000, 100000]\n",
      "73694은(는) 73643번째 위치에 있습니다.\n",
      "## 13회 검색함\n"
     ]
    }
   ],
   "source": [
    "import random\n",
    "\n",
    "# 랜덤한 숫자 100,000개 생성\n",
    "data = [random.randint(0, 100000) for _ in range(100000)]\n",
    "\n",
    "# 랜덤하게 찾을 숫자 선택\n",
    "target = random.randint(0, 100000)\n",
    "\n",
    "count = 0\n",
    "# 이진 탐색 함수\n",
    "def binSearch(ary, fData):\n",
    "    global count\n",
    "    start = 0\n",
    "    end = len(ary) - 1\n",
    "    \n",
    "    while start <= end:\n",
    "        mid = (start + end) // 2\n",
    "        count += 1 # 시행 횟수 카운트\n",
    "        if fData == ary[mid]:\n",
    "            return mid\n",
    "        elif fData > ary[mid]:\n",
    "            start = mid + 1\n",
    "        else:\n",
    "            end = mid - 1\n",
    "    return -1\n",
    "\n",
    "# 데이터 정렬\n",
    "data.sort()\n",
    "before = data[0:5]\n",
    "after = data[99995:]\n",
    "\n",
    "# 이진 탐색을 이용하여 target을 찾기\n",
    "result = binSearch(data, target)\n",
    "\n",
    "# 결과 출력\n",
    "if result != -1:\n",
    "    print(f\"배열 일부 --> {before} ~~~~ {after}\")\n",
    "    print(f\"{target}은(는) {result}번째 위치에 있습니다.\")\n",
    "    print(f\"## {count}회 검색함\")\n",
    "else:\n",
    "    print(f\"배열 일부 --> {before} ~~~~ {after}\")    \n",
    "    print(f\"{target}은(는) 목록에 없습니다.\")\n",
    "    print(f\"## {count}회 검색함\")\n"
   ]
  }
 ],
 "metadata": {
  "kernelspec": {
   "display_name": "Python 3",
   "language": "python",
   "name": "python3"
  },
  "language_info": {
   "codemirror_mode": {
    "name": "ipython",
    "version": 3
   },
   "file_extension": ".py",
   "mimetype": "text/x-python",
   "name": "python",
   "nbconvert_exporter": "python",
   "pygments_lexer": "ipython3",
   "version": "3.11.9"
  }
 },
 "nbformat": 4,
 "nbformat_minor": 2
}
